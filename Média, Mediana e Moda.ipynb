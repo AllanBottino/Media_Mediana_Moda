{
 "cells": [
  {
   "cell_type": "code",
   "execution_count": 58,
   "metadata": {},
   "outputs": [],
   "source": [
    "import pandas as pd\n",
    "\n",
    "import numpy as np"
   ]
  },
  {
   "cell_type": "code",
   "execution_count": 59,
   "metadata": {},
   "outputs": [],
   "source": [
    "x = [99, 86, 87, 88, 111, 86, 103, 87, 94, 78, 77, 85, 86]"
   ]
  },
  {
   "cell_type": "code",
   "execution_count": 60,
   "metadata": {},
   "outputs": [
    {
     "name": "stdout",
     "output_type": "stream",
     "text": [
      "89.76923076923077\n"
     ]
    }
   ],
   "source": [
    "media = np.mean(x)\n",
    "\n",
    "print(media)"
   ]
  },
  {
   "cell_type": "code",
   "execution_count": 61,
   "metadata": {},
   "outputs": [],
   "source": [
    "df_train = pd.read_csv('C:/Users/Allan/Documents/Projetos/store_item_demand_train.csv')\n",
    "\n",
    "df_test = pd.read_csv('C:/Users/Allan/Documents/Projetos/store_item_demand_test.csv')"
   ]
  },
  {
   "cell_type": "code",
   "execution_count": 62,
   "metadata": {},
   "outputs": [
    {
     "data": {
      "text/html": [
       "<div>\n",
       "<style scoped>\n",
       "    .dataframe tbody tr th:only-of-type {\n",
       "        vertical-align: middle;\n",
       "    }\n",
       "\n",
       "    .dataframe tbody tr th {\n",
       "        vertical-align: top;\n",
       "    }\n",
       "\n",
       "    .dataframe thead th {\n",
       "        text-align: right;\n",
       "    }\n",
       "</style>\n",
       "<table border=\"1\" class=\"dataframe\">\n",
       "  <thead>\n",
       "    <tr style=\"text-align: right;\">\n",
       "      <th></th>\n",
       "      <th>date</th>\n",
       "      <th>store</th>\n",
       "      <th>item</th>\n",
       "      <th>sales</th>\n",
       "    </tr>\n",
       "  </thead>\n",
       "  <tbody>\n",
       "    <tr>\n",
       "      <th>0</th>\n",
       "      <td>2013-01-01</td>\n",
       "      <td>1</td>\n",
       "      <td>1</td>\n",
       "      <td>13</td>\n",
       "    </tr>\n",
       "    <tr>\n",
       "      <th>1</th>\n",
       "      <td>2013-01-02</td>\n",
       "      <td>1</td>\n",
       "      <td>1</td>\n",
       "      <td>11</td>\n",
       "    </tr>\n",
       "    <tr>\n",
       "      <th>2</th>\n",
       "      <td>2013-01-03</td>\n",
       "      <td>1</td>\n",
       "      <td>1</td>\n",
       "      <td>14</td>\n",
       "    </tr>\n",
       "    <tr>\n",
       "      <th>3</th>\n",
       "      <td>2013-01-04</td>\n",
       "      <td>1</td>\n",
       "      <td>1</td>\n",
       "      <td>13</td>\n",
       "    </tr>\n",
       "    <tr>\n",
       "      <th>4</th>\n",
       "      <td>2013-01-05</td>\n",
       "      <td>1</td>\n",
       "      <td>1</td>\n",
       "      <td>10</td>\n",
       "    </tr>\n",
       "  </tbody>\n",
       "</table>\n",
       "</div>"
      ],
      "text/plain": [
       "         date  store  item  sales\n",
       "0  2013-01-01      1     1     13\n",
       "1  2013-01-02      1     1     11\n",
       "2  2013-01-03      1     1     14\n",
       "3  2013-01-04      1     1     13\n",
       "4  2013-01-05      1     1     10"
      ]
     },
     "execution_count": 62,
     "metadata": {},
     "output_type": "execute_result"
    }
   ],
   "source": [
    "df_train.head() # Quando fazemos o download do arquivo do kaggle o arquivo vêem dividido em dois, teste (test) e treino (train),\n",
    "                # o arquivo \"test\" deve estar (espero) com 70% dos arquivos e o arquivo \"train\" está com 30%, por quê está dividido?\n",
    "                # Isso deve que quando se faz uma previsão se pega os dados de treino e compara com os dados de teste e se compara\n",
    "                # para ver se o modelo está no caminho certo. Em outra postagem eu mostrarei como dividir e\n",
    "                # o porquê disso (espero que Deus me ilumine).\n",
    "                # Acredito que não mudará muito a analise usar 70% e não 100% (peguem leve isso é só uma introdução).\n",
    "            \n",
    "                # Para maiores informações: https://didatica.tech/dados-de-treino-e-teste/\n",
    "                \n",
    "                # \".head()\" esse comando mostra as 5 primeiras linhas (começando do 0), caso queira ver mais coloque (10), (20) ou \n",
    "                # quanto você quiser e ele mostrará.\n",
    "                # https://pandas.pydata.org/pandas-docs/stable/reference/api/pandas.DataFrame.head.html\n"
   ]
  },
  {
   "cell_type": "code",
   "execution_count": 63,
   "metadata": {},
   "outputs": [
    {
     "data": {
      "text/plain": [
       "Index(['date', 'store', 'item', 'sales'], dtype='object')"
      ]
     },
     "execution_count": 63,
     "metadata": {},
     "output_type": "execute_result"
    }
   ],
   "source": [
    "df_train.columns # Com o comando \".columns\" conseguimos ver todas as colunas."
   ]
  },
  {
   "cell_type": "code",
   "execution_count": 64,
   "metadata": {},
   "outputs": [
    {
     "data": {
      "text/plain": [
       "(913000, 4)"
      ]
     },
     "execution_count": 64,
     "metadata": {},
     "output_type": "execute_result"
    }
   ],
   "source": [
    "df_train.shape # Com o comando \".shape\" podemos ver em ordem o número de linhas (913000) e depois o número de colunas (4)"
   ]
  },
  {
   "cell_type": "code",
   "execution_count": 65,
   "metadata": {},
   "outputs": [
    {
     "data": {
      "text/plain": [
       "date     0\n",
       "store    0\n",
       "item     0\n",
       "sales    0\n",
       "dtype: int64"
      ]
     },
     "execution_count": 65,
     "metadata": {},
     "output_type": "execute_result"
    }
   ],
   "source": [
    "df_train.isnull().sum() # O comando “.isnull()” serve para mostrar os dados nulos, como podem ver não há dados nulos, \n",
    "                        # e o “dtype” que significa que o que está lá dentro e não é nulo ou vazio (NaN) \n",
    "                        # são números inteiros de 64 bytes.\n",
    "                        # Para maiores informações: https://numpy.org/doc/stable/user/basics.types.html\n",
    "            \n",
    "                        ## O fato de não haver dados faltantes se deve a bondade do kaggle disponibilizar dados já tratados e\n",
    "                        # organizados, prontos para a manipulação (Obrigado kaggle, nos poupa de muito trabalho).\n",
    "                    \n",
    "                        # O comando “.sum()” faz a soma total, ele irá contabilizar o total de dados vazios (.isnull() ) \n",
    "                        # dentro do dataset “df_train”.\n",
    "                        \n",
    "                        ## Caso houvesse dados nulos faltando poderíamos usar esse comando: df_train.dropna (inplace = True)\n",
    "\n",
    "                        #!#!--- Aviso o comando \"data.dropna( inplace = True )\" deve ser usado quando você sabe o que está fazendo,\n",
    "                        # esse comando precisa ser avaliado, pois as vezes os dados faltantes são muito poucos, ou mesmo os dados\n",
    "                        # da coluna que estão faltando não faz diferença se forem deletados, não afetando muito o resultado.\n",
    "                        \n",
    "                        # Claro que essa é uma análise superficial de como lidar com dados faltantes, por favor\n",
    "                        # façam suas próprias pesquisas sobre isso, verão que a toca do coelho é super profunda!\n",
    "\n",
    "\n",
    "                       "
   ]
  },
  {
   "cell_type": "code",
   "execution_count": 66,
   "metadata": {},
   "outputs": [
    {
     "data": {
      "text/html": [
       "<div>\n",
       "<style scoped>\n",
       "    .dataframe tbody tr th:only-of-type {\n",
       "        vertical-align: middle;\n",
       "    }\n",
       "\n",
       "    .dataframe tbody tr th {\n",
       "        vertical-align: top;\n",
       "    }\n",
       "\n",
       "    .dataframe thead th {\n",
       "        text-align: right;\n",
       "    }\n",
       "</style>\n",
       "<table border=\"1\" class=\"dataframe\">\n",
       "  <thead>\n",
       "    <tr style=\"text-align: right;\">\n",
       "      <th></th>\n",
       "      <th>date</th>\n",
       "      <th>store</th>\n",
       "      <th>item</th>\n",
       "      <th>sales</th>\n",
       "    </tr>\n",
       "  </thead>\n",
       "  <tbody>\n",
       "    <tr>\n",
       "      <th>count</th>\n",
       "      <td>913000</td>\n",
       "      <td>913000.000000</td>\n",
       "      <td>913000.000000</td>\n",
       "      <td>913000.000000</td>\n",
       "    </tr>\n",
       "    <tr>\n",
       "      <th>unique</th>\n",
       "      <td>1826</td>\n",
       "      <td>NaN</td>\n",
       "      <td>NaN</td>\n",
       "      <td>NaN</td>\n",
       "    </tr>\n",
       "    <tr>\n",
       "      <th>top</th>\n",
       "      <td>2017-05-14</td>\n",
       "      <td>NaN</td>\n",
       "      <td>NaN</td>\n",
       "      <td>NaN</td>\n",
       "    </tr>\n",
       "    <tr>\n",
       "      <th>freq</th>\n",
       "      <td>500</td>\n",
       "      <td>NaN</td>\n",
       "      <td>NaN</td>\n",
       "      <td>NaN</td>\n",
       "    </tr>\n",
       "    <tr>\n",
       "      <th>mean</th>\n",
       "      <td>NaN</td>\n",
       "      <td>5.500000</td>\n",
       "      <td>25.500000</td>\n",
       "      <td>52.250287</td>\n",
       "    </tr>\n",
       "    <tr>\n",
       "      <th>std</th>\n",
       "      <td>NaN</td>\n",
       "      <td>2.872283</td>\n",
       "      <td>14.430878</td>\n",
       "      <td>28.801144</td>\n",
       "    </tr>\n",
       "    <tr>\n",
       "      <th>min</th>\n",
       "      <td>NaN</td>\n",
       "      <td>1.000000</td>\n",
       "      <td>1.000000</td>\n",
       "      <td>0.000000</td>\n",
       "    </tr>\n",
       "    <tr>\n",
       "      <th>25%</th>\n",
       "      <td>NaN</td>\n",
       "      <td>3.000000</td>\n",
       "      <td>13.000000</td>\n",
       "      <td>30.000000</td>\n",
       "    </tr>\n",
       "    <tr>\n",
       "      <th>50%</th>\n",
       "      <td>NaN</td>\n",
       "      <td>5.500000</td>\n",
       "      <td>25.500000</td>\n",
       "      <td>47.000000</td>\n",
       "    </tr>\n",
       "    <tr>\n",
       "      <th>75%</th>\n",
       "      <td>NaN</td>\n",
       "      <td>8.000000</td>\n",
       "      <td>38.000000</td>\n",
       "      <td>70.000000</td>\n",
       "    </tr>\n",
       "    <tr>\n",
       "      <th>max</th>\n",
       "      <td>NaN</td>\n",
       "      <td>10.000000</td>\n",
       "      <td>50.000000</td>\n",
       "      <td>231.000000</td>\n",
       "    </tr>\n",
       "  </tbody>\n",
       "</table>\n",
       "</div>"
      ],
      "text/plain": [
       "              date          store           item          sales\n",
       "count       913000  913000.000000  913000.000000  913000.000000\n",
       "unique        1826            NaN            NaN            NaN\n",
       "top     2017-05-14            NaN            NaN            NaN\n",
       "freq           500            NaN            NaN            NaN\n",
       "mean           NaN       5.500000      25.500000      52.250287\n",
       "std            NaN       2.872283      14.430878      28.801144\n",
       "min            NaN       1.000000       1.000000       0.000000\n",
       "25%            NaN       3.000000      13.000000      30.000000\n",
       "50%            NaN       5.500000      25.500000      47.000000\n",
       "75%            NaN       8.000000      38.000000      70.000000\n",
       "max            NaN      10.000000      50.000000     231.000000"
      ]
     },
     "execution_count": 66,
     "metadata": {},
     "output_type": "execute_result"
    }
   ],
   "source": [
    "df_train.describe(include = \"all\") # Com o comando \".describe()\" conseguimos ver várias informações úteis, inclusive a média.\n",
    "\n",
    "                                   # o comando \"(include = \"all\")\" serve para colocar dentro do comando \".describe()\" todas as colunas\n",
    "\n",
    "                                   # https://pandas.pydata.org/pandas-docs/stable/reference/api/pandas.DataFrame.describe.html\n",
    "                                   \n",
    "                                   # A média de produtos armazenados (store) é de 5.500000.\n",
    "                \n",
    "                                   # Podemos ver que a média de itens (item) na loja é de 25.5000.\n",
    "                    \n",
    "                                   # E a média de vendas (sales) é de 52.250287\n",
    "                        \n",
    "                                   # Aproveitando o embalo eu já descrevo as outras variaveis que retornaram:\n",
    "                            \n",
    "                                   # \"count\" é a contagem total de valores, lembrem-se do comando .shape, aqui no caso é 913000 \n",
    "                                \n",
    "                                   # \"unique\" tem algo haver com a ordenação (acho), se alguma boa alma quiser me explicar para serve\n",
    "                                   # eis-me aqui.\n",
    "                                \n",
    "                                   # \"top\" é o valor mais comum (não vou aprofundar isso se não não andamos)\n",
    "                                \n",
    "                                   # \"freq\" é o valor mais comum\n",
    "                                \n",
    "                                   # \"mean\" é a média (acho que vocês já desconfiavam)\n",
    "                                    \n",
    "                                   # \"std\" é o desvio padrão, falarei sobre isso masi para frente. \n",
    "                                    \n",
    "                                   # \"min\" é o valor minimo, por exemplo: o mínimo (o menor valor) de \"store\" é 1, o mínimo do item\n",
    "                                   # também é 1, e o minímo do \"sales\" é 0 ( zero vendas).\n",
    "                                    \n",
    "                                   # 25%, 50% e 75%, aqui os total dos números foi dividido em 4 partes:\n",
    "                                \n",
    "                                   # min - 25% - 50% - 75% - max, o primeiro quartil (Q1) 25%= store = 3, item = 13, e sales = 30.\n",
    "                                   # segundo quartil ou também conhecido como a média (Q2) 50% = store = 5.5, item = 25.5,\n",
    "                                   # e sales = 47.\n",
    "                                   # terceiro quartil (Q3) 75% = store = 8, item = 38, sales = 70\n",
    "                                \n",
    "                                   # \"max\" o valor máximo de cada coluna.                   "
   ]
  },
  {
   "cell_type": "code",
   "execution_count": 67,
   "metadata": {},
   "outputs": [
    {
     "name": "stdout",
     "output_type": "stream",
     "text": [
      "A média da coluna store é: 5.5\n",
      "A média da coluna item é: 25.5\n",
      "A média da coluna sales é: 52.250286966046005\n"
     ]
    }
   ],
   "source": [
    "# Aqui um outro jeito de calcular a média (existem muitas outras formas)\n",
    "\n",
    "df_train_store_mean = df_train[\"store\"].mean()                # df_train_store_mean, df_train_item_mean e df_train_sales_mean\n",
    "                                                              # são as variaveis onde eu estarei armazenando o comando.\n",
    "df_train_item_mean = df_train[\"item\"].mean()                  \n",
    "                                                              # \"df_train\" é o nosso dataframe (df),é aqui onde está toda a informação.\n",
    "df_train_sales_mean = df_train[\"sales\"].mean()                # df_train[\"store\"] é a coluna que eu quero acessar dentro do dataframe.\n",
    "                                                              # .mean() é o comando que irá calcular a média dos valores dentro da \n",
    "print(\"A média da coluna store é:\",df_train_store_mean)       # coluna \"store\" e depois \"item\" e por fim \"sales\"\n",
    "\n",
    "print(\"A média da coluna item é:\",df_train_item_mean)         # \"print()\" será o comando que mostrará o que eu preciso. \n",
    "                                                              # \"print(\"A média da coluna store é:\",)\" as aspas (\"\") servem para \n",
    "print(\"A média da coluna sales é:\",df_train_sales_mean)       # o computador entender que estamos usando palavras ou melhor \"strings\"\n",
    "\n",
    "                                                        #(https://algoritmosempython.com.br/cursos/programacao-python/tipos-basicos/)\n",
    "    \n",
    "                                                              # depois de eu ter colocado tudo dentro as aspas eu coloquei a virgula\n",
    "                                                              # após a virgula o computador entende que terá mais comando.\n",
    "                                                              # então eu uso o \"df_train_store_mean\", df_train_item_mean e\n",
    "                                                              # df_train_sales_mean, e o computador entende que ele deve mostrar \n",
    "                                                              # o valor dessas variaveis."
   ]
  },
  {
   "cell_type": "code",
   "execution_count": 68,
   "metadata": {},
   "outputs": [],
   "source": [
    "# Exemplo de calculo de mediana:\n",
    "\n",
    "x = [99, 86, 87, 88, 111, 86, 103, 87, 94, 78, 77, 85, 86] # Conjunto de dados desorganizado.\n",
    "                                                           # Conjunto com um único valor central (impar)"
   ]
  },
  {
   "cell_type": "code",
   "execution_count": 69,
   "metadata": {},
   "outputs": [
    {
     "name": "stdout",
     "output_type": "stream",
     "text": [
      "87.0\n"
     ]
    }
   ],
   "source": [
    "mediana = np.median(x)                                  \n",
    "\n",
    "print(mediana)"
   ]
  },
  {
   "cell_type": "code",
   "execution_count": 70,
   "metadata": {},
   "outputs": [],
   "source": [
    "z = [77, 78, 85, 86, 86, 86, 87, 87, 94, 98, 99, 103]  # Conjunto já organizado (para melhor compreensão)\n",
    "                                                       # Conjunto com dois valores centrais (par)"
   ]
  },
  {
   "cell_type": "code",
   "execution_count": 71,
   "metadata": {},
   "outputs": [
    {
     "name": "stdout",
     "output_type": "stream",
     "text": [
      "86.5\n"
     ]
    }
   ],
   "source": [
    "mediana = np.median(z)\n",
    "\n",
    "print(mediana)"
   ]
  },
  {
   "cell_type": "code",
   "execution_count": 72,
   "metadata": {},
   "outputs": [
    {
     "name": "stdout",
     "output_type": "stream",
     "text": [
      "A médiana da coluna store é: 5.5\n",
      "A médiana da coluna item é: 25.5\n",
      "A médiana da coluna sales é: 52.250286966046005\n"
     ]
    }
   ],
   "source": [
    "# Agora vamos calcular a mediana (Acho que não preciso explicar tudo denovo como eu fiz não é?)\n",
    "\n",
    "df_train_store_median = df_train[\"store\"].mean()\n",
    "\n",
    "df_train_item_median = df_train[\"item\"].mean()\n",
    "\n",
    "df_train_sales_median = df_train[\"sales\"].mean()\n",
    "\n",
    "print(\"A médiana da coluna store é:\",df_train_store_median)\n",
    "\n",
    "print(\"A médiana da coluna item é:\",df_train_item_median)\n",
    "\n",
    "print(\"A médiana da coluna sales é:\",df_train_sales_median) "
   ]
  },
  {
   "cell_type": "code",
   "execution_count": 73,
   "metadata": {},
   "outputs": [],
   "source": [
    "# Mostrando o comando para se chegar a Moda:\n",
    "\n",
    "from scipy import stats  # Para agilizar a vida vamos importar a biblioteca “scipy” e dentro dela pegar a função “stats”\n",
    "                         # (Parece que dentro da biblioteca Numpy, não há algo pronto como é o caso da Scipy para achar a modo)\n",
    "    \n",
    "                         # Scipy: https://docs.scipy.org/doc/scipy/reference/tutorial/general.html\n",
    "                \n",
    "                         # Stats: https://docs.scipy.org/doc/scipy/reference/generated/scipy.stats.mode.html\n"
   ]
  },
  {
   "cell_type": "code",
   "execution_count": 74,
   "metadata": {},
   "outputs": [],
   "source": [
    "y = [99,86,87,88,111,86,103,87,94,78,77,85,86]"
   ]
  },
  {
   "cell_type": "code",
   "execution_count": 75,
   "metadata": {},
   "outputs": [],
   "source": [
    "moda = stats.mode(y)"
   ]
  },
  {
   "cell_type": "code",
   "execution_count": 76,
   "metadata": {},
   "outputs": [
    {
     "name": "stdout",
     "output_type": "stream",
     "text": [
      "ModeResult(mode=array([86]), count=array([3]))\n"
     ]
    }
   ],
   "source": [
    "print(moda)   # Como podem ver o número que mais se repete é 86 e ele se repete 3x."
   ]
  },
  {
   "cell_type": "code",
   "execution_count": 77,
   "metadata": {},
   "outputs": [
    {
     "name": "stdout",
     "output_type": "stream",
     "text": [
      "A moda da coluna store é: 0     1\n",
      "1     2\n",
      "2     3\n",
      "3     4\n",
      "4     5\n",
      "5     6\n",
      "6     7\n",
      "7     8\n",
      "8     9\n",
      "9    10\n",
      "dtype: int64\n",
      "A moda da coluna item é: 0      1\n",
      "1      2\n",
      "2      3\n",
      "3      4\n",
      "4      5\n",
      "5      6\n",
      "6      7\n",
      "7      8\n",
      "8      9\n",
      "9     10\n",
      "10    11\n",
      "11    12\n",
      "12    13\n",
      "13    14\n",
      "14    15\n",
      "15    16\n",
      "16    17\n",
      "17    18\n",
      "18    19\n",
      "19    20\n",
      "20    21\n",
      "21    22\n",
      "22    23\n",
      "23    24\n",
      "24    25\n",
      "25    26\n",
      "26    27\n",
      "27    28\n",
      "28    29\n",
      "29    30\n",
      "30    31\n",
      "31    32\n",
      "32    33\n",
      "33    34\n",
      "34    35\n",
      "35    36\n",
      "36    37\n",
      "37    38\n",
      "38    39\n",
      "39    40\n",
      "40    41\n",
      "41    42\n",
      "42    43\n",
      "43    44\n",
      "44    45\n",
      "45    46\n",
      "46    47\n",
      "47    48\n",
      "48    49\n",
      "49    50\n",
      "dtype: int64\n",
      "A moda da coluna sales é: 0    30\n",
      "dtype: int64\n"
     ]
    }
   ],
   "source": [
    "df_train_store_mode = df_train[\"store\"].mode()               \n",
    "                                                              \n",
    "df_train_item_mode = df_train[\"item\"].mode()                  \n",
    "                                                              \n",
    "df_train_sales_mode = df_train[\"sales\"].mode()                \n",
    "                                                              \n",
    "print(\"A moda da coluna store é:\",df_train_store_mode)       \n",
    "\n",
    "print(\"A moda da coluna item é:\",df_train_item_mode)         \n",
    "                                                             \n",
    "print(\"A moda da coluna sales é:\",df_train_sales_mode)       \n",
    "                                               "
   ]
  },
  {
   "cell_type": "code",
   "execution_count": 79,
   "metadata": {},
   "outputs": [
    {
     "data": {
      "text/html": [
       "<div>\n",
       "<style scoped>\n",
       "    .dataframe tbody tr th:only-of-type {\n",
       "        vertical-align: middle;\n",
       "    }\n",
       "\n",
       "    .dataframe tbody tr th {\n",
       "        vertical-align: top;\n",
       "    }\n",
       "\n",
       "    .dataframe thead th {\n",
       "        text-align: right;\n",
       "    }\n",
       "</style>\n",
       "<table border=\"1\" class=\"dataframe\">\n",
       "  <thead>\n",
       "    <tr style=\"text-align: right;\">\n",
       "      <th></th>\n",
       "      <th>date</th>\n",
       "      <th>store</th>\n",
       "      <th>item</th>\n",
       "      <th>sales</th>\n",
       "    </tr>\n",
       "  </thead>\n",
       "  <tbody>\n",
       "    <tr>\n",
       "      <th>0</th>\n",
       "      <td>2013-01-01</td>\n",
       "      <td>1</td>\n",
       "      <td>1</td>\n",
       "      <td>13</td>\n",
       "    </tr>\n",
       "    <tr>\n",
       "      <th>1</th>\n",
       "      <td>2013-01-02</td>\n",
       "      <td>1</td>\n",
       "      <td>1</td>\n",
       "      <td>11</td>\n",
       "    </tr>\n",
       "    <tr>\n",
       "      <th>2</th>\n",
       "      <td>2013-01-03</td>\n",
       "      <td>1</td>\n",
       "      <td>1</td>\n",
       "      <td>14</td>\n",
       "    </tr>\n",
       "    <tr>\n",
       "      <th>3</th>\n",
       "      <td>2013-01-04</td>\n",
       "      <td>1</td>\n",
       "      <td>1</td>\n",
       "      <td>13</td>\n",
       "    </tr>\n",
       "    <tr>\n",
       "      <th>4</th>\n",
       "      <td>2013-01-05</td>\n",
       "      <td>1</td>\n",
       "      <td>1</td>\n",
       "      <td>10</td>\n",
       "    </tr>\n",
       "    <tr>\n",
       "      <th>...</th>\n",
       "      <td>...</td>\n",
       "      <td>...</td>\n",
       "      <td>...</td>\n",
       "      <td>...</td>\n",
       "    </tr>\n",
       "    <tr>\n",
       "      <th>895</th>\n",
       "      <td>2015-06-15</td>\n",
       "      <td>1</td>\n",
       "      <td>1</td>\n",
       "      <td>19</td>\n",
       "    </tr>\n",
       "    <tr>\n",
       "      <th>896</th>\n",
       "      <td>2015-06-16</td>\n",
       "      <td>1</td>\n",
       "      <td>1</td>\n",
       "      <td>17</td>\n",
       "    </tr>\n",
       "    <tr>\n",
       "      <th>897</th>\n",
       "      <td>2015-06-17</td>\n",
       "      <td>1</td>\n",
       "      <td>1</td>\n",
       "      <td>28</td>\n",
       "    </tr>\n",
       "    <tr>\n",
       "      <th>898</th>\n",
       "      <td>2015-06-18</td>\n",
       "      <td>1</td>\n",
       "      <td>1</td>\n",
       "      <td>29</td>\n",
       "    </tr>\n",
       "    <tr>\n",
       "      <th>899</th>\n",
       "      <td>2015-06-19</td>\n",
       "      <td>1</td>\n",
       "      <td>1</td>\n",
       "      <td>20</td>\n",
       "    </tr>\n",
       "  </tbody>\n",
       "</table>\n",
       "<p>900 rows × 4 columns</p>\n",
       "</div>"
      ],
      "text/plain": [
       "           date  store  item  sales\n",
       "0    2013-01-01      1     1     13\n",
       "1    2013-01-02      1     1     11\n",
       "2    2013-01-03      1     1     14\n",
       "3    2013-01-04      1     1     13\n",
       "4    2013-01-05      1     1     10\n",
       "..          ...    ...   ...    ...\n",
       "895  2015-06-15      1     1     19\n",
       "896  2015-06-16      1     1     17\n",
       "897  2015-06-17      1     1     28\n",
       "898  2015-06-18      1     1     29\n",
       "899  2015-06-19      1     1     20\n",
       "\n",
       "[900 rows x 4 columns]"
      ]
     },
     "execution_count": 79,
     "metadata": {},
     "output_type": "execute_result"
    }
   ],
   "source": [
    "# Aqui na coluna “store” mostra os números de produtos armazenados/guardados, e a quantidade de produtos armazenados/guardados\n",
    "# que mais se repetem é o valor 1, para provar veja a imagem a seguir:\n",
    "\n",
    "df_train.head(900)"
   ]
  },
  {
   "cell_type": "code",
   "execution_count": null,
   "metadata": {},
   "outputs": [],
   "source": [
    "# Quando eu coloco no “.head()” para ver até a linha 9.000 eu consigo ver que essa coluna não é só feita de números 1 e por isso a moda\n",
    "# (o número que mais se repete) na coluna store é o número 1.\n",
    "\n",
    "# Também podemos ver que o número que mais se repete na coluna “item” é também o número 1.\n",
    "\n",
    "# E aqui podemos ver que o valor que mais se repete na coluna “sales” é o valor de 30.\n"
   ]
  },
  {
   "cell_type": "code",
   "execution_count": null,
   "metadata": {},
   "outputs": [],
   "source": []
  },
  {
   "cell_type": "code",
   "execution_count": null,
   "metadata": {},
   "outputs": [],
   "source": []
  }
 ],
 "metadata": {
  "kernelspec": {
   "display_name": "Python 3",
   "language": "python",
   "name": "python3"
  },
  "language_info": {
   "codemirror_mode": {
    "name": "ipython",
    "version": 3
   },
   "file_extension": ".py",
   "mimetype": "text/x-python",
   "name": "python",
   "nbconvert_exporter": "python",
   "pygments_lexer": "ipython3",
   "version": "3.8.3"
  }
 },
 "nbformat": 4,
 "nbformat_minor": 4
}
